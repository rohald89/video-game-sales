{
 "cells": [
  {
   "cell_type": "markdown",
   "id": "bea430e7-3c5f-40d9-895b-9bf6fa32df31",
   "metadata": {
    "tags": []
   },
   "source": [
    "# Top 100 Video Game Sales"
   ]
  },
  {
   "cell_type": "markdown",
   "id": "5fa1c214-ba6c-4622-b8c8-d255ebfce3c6",
   "metadata": {},
   "source": [
    "## Imports"
   ]
  },
  {
   "cell_type": "code",
   "execution_count": 2,
   "id": "5f504c6a-8eb4-47b3-a074-fc192f031703",
   "metadata": {},
   "outputs": [],
   "source": [
    "import seaborn as sns\n",
    "import pandas as pd"
   ]
  },
  {
   "cell_type": "markdown",
   "id": "34bbe87e-7a10-4e45-b1db-d84bf06eb23d",
   "metadata": {},
   "source": [
    "❌ __TODO:__ ⭐ Charts are not in the default color and settings."
   ]
  },
  {
   "cell_type": "code",
   "execution_count": 32,
   "id": "880bc552-1231-4b00-89a5-3bcf9dd40da5",
   "metadata": {},
   "outputs": [],
   "source": [
    "sns.set_theme()"
   ]
  },
  {
   "cell_type": "code",
   "execution_count": null,
   "id": "4e1ae52a-14eb-4edc-933e-c8cba14e60e2",
   "metadata": {},
   "outputs": [
    {
     "data": {
      "text/html": [
       "<div>\n",
       "<style scoped>\n",
       "    .dataframe tbody tr th:only-of-type {\n",
       "        vertical-align: middle;\n",
       "    }\n",
       "\n",
       "    .dataframe tbody tr th {\n",
       "        vertical-align: top;\n",
       "    }\n",
       "\n",
       "    .dataframe thead th {\n",
       "        text-align: right;\n",
       "    }\n",
       "</style>\n",
       "<table border=\"1\" class=\"dataframe\">\n",
       "  <thead>\n",
       "    <tr style=\"text-align: right;\">\n",
       "      <th></th>\n",
       "      <th>Rank</th>\n",
       "      <th>Name</th>\n",
       "      <th>Platform</th>\n",
       "      <th>Year</th>\n",
       "      <th>Genre</th>\n",
       "      <th>Publisher</th>\n",
       "      <th>NA_Sales</th>\n",
       "      <th>EU_Sales</th>\n",
       "      <th>JP_Sales</th>\n",
       "      <th>Other_Sales</th>\n",
       "      <th>Global_Sales</th>\n",
       "    </tr>\n",
       "  </thead>\n",
       "  <tbody>\n",
       "    <tr>\n",
       "      <th>0</th>\n",
       "      <td>1</td>\n",
       "      <td>Wii Sports</td>\n",
       "      <td>Nintendo</td>\n",
       "      <td>2006</td>\n",
       "      <td>Sports</td>\n",
       "      <td>Nintendo</td>\n",
       "      <td>41.49</td>\n",
       "      <td>29.02</td>\n",
       "      <td>3.77</td>\n",
       "      <td>8.46</td>\n",
       "      <td>82.74</td>\n",
       "    </tr>\n",
       "    <tr>\n",
       "      <th>1</th>\n",
       "      <td>2</td>\n",
       "      <td>Mario Kart Wii</td>\n",
       "      <td>Nintendo</td>\n",
       "      <td>2008</td>\n",
       "      <td>Racing</td>\n",
       "      <td>Nintendo</td>\n",
       "      <td>15.85</td>\n",
       "      <td>12.88</td>\n",
       "      <td>3.79</td>\n",
       "      <td>3.31</td>\n",
       "      <td>35.82</td>\n",
       "    </tr>\n",
       "    <tr>\n",
       "      <th>2</th>\n",
       "      <td>3</td>\n",
       "      <td>Wii Sports Resort</td>\n",
       "      <td>Nintendo</td>\n",
       "      <td>2009</td>\n",
       "      <td>Sports</td>\n",
       "      <td>Nintendo</td>\n",
       "      <td>15.75</td>\n",
       "      <td>11.01</td>\n",
       "      <td>3.28</td>\n",
       "      <td>2.96</td>\n",
       "      <td>33.00</td>\n",
       "    </tr>\n",
       "    <tr>\n",
       "      <th>3</th>\n",
       "      <td>4</td>\n",
       "      <td>New Super Mario Bros.</td>\n",
       "      <td>Nintendo</td>\n",
       "      <td>2006</td>\n",
       "      <td>Platform</td>\n",
       "      <td>Nintendo</td>\n",
       "      <td>11.38</td>\n",
       "      <td>9.23</td>\n",
       "      <td>6.50</td>\n",
       "      <td>2.90</td>\n",
       "      <td>30.01</td>\n",
       "    </tr>\n",
       "    <tr>\n",
       "      <th>4</th>\n",
       "      <td>5</td>\n",
       "      <td>Wii Play</td>\n",
       "      <td>Nintendo</td>\n",
       "      <td>2006</td>\n",
       "      <td>Misc</td>\n",
       "      <td>Nintendo</td>\n",
       "      <td>14.03</td>\n",
       "      <td>9.20</td>\n",
       "      <td>2.93</td>\n",
       "      <td>2.85</td>\n",
       "      <td>29.02</td>\n",
       "    </tr>\n",
       "  </tbody>\n",
       "</table>\n",
       "</div>"
      ],
      "text/plain": [
       "   Rank                   Name  Platform  Year     Genre Publisher  NA_Sales  \\\n",
       "0     1             Wii Sports  Nintendo  2006    Sports  Nintendo     41.49   \n",
       "1     2         Mario Kart Wii  Nintendo  2008    Racing  Nintendo     15.85   \n",
       "2     3      Wii Sports Resort  Nintendo  2009    Sports  Nintendo     15.75   \n",
       "3     4  New Super Mario Bros.  Nintendo  2006  Platform  Nintendo     11.38   \n",
       "4     5               Wii Play  Nintendo  2006      Misc  Nintendo     14.03   \n",
       "\n",
       "   EU_Sales  JP_Sales  Other_Sales  Global_Sales  \n",
       "0     29.02      3.77         8.46         82.74  \n",
       "1     12.88      3.79         3.31         35.82  \n",
       "2     11.01      3.28         2.96         33.00  \n",
       "3      9.23      6.50         2.90         30.01  \n",
       "4      9.20      2.93         2.85         29.02  "
      ]
     },
     "execution_count": 5,
     "metadata": {},
     "output_type": "execute_result"
    }
   ],
   "source": [
    "games = pd.read_csv('top100videogamesales.csv')\n",
    "games.head()"
   ]
  },
  {
   "cell_type": "markdown",
   "id": "ace64180-69ac-43fe-8808-568f9570d914",
   "metadata": {},
   "source": [
    "## Global Sales"
   ]
  },
  {
   "cell_type": "markdown",
   "id": "95f3cac6-cdf5-40b6-80f4-362430a37911",
   "metadata": {},
   "source": [
    "### Total global sales for each year"
   ]
  },
  {
   "cell_type": "code",
   "execution_count": 35,
   "id": "cd9d6e8e-6692-420c-9f8c-2311db9bfa6f",
   "metadata": {},
   "outputs": [
    {
     "data": {
      "text/plain": [
       "<AxesSubplot:xlabel='Year', ylabel='Global_Sales'>"
      ]
     },
     "execution_count": 35,
     "metadata": {},
     "output_type": "execute_result"
    },
    {
     "data": {
      "image/png": "[encoded data removed]",
      "text/plain": [
       "<Figure size 432x288 with 1 Axes>"
      ]
     },
     "metadata": {},
     "output_type": "display_data"
    }
   ],
   "source": [
    "sns.lineplot(data=games, palette=\"rocket\", x='Year', y='Global_Sales')"
   ]
  },
  {
   "cell_type": "markdown",
   "id": "369211a4-a84e-4fcf-bff5-e924b4fab36f",
   "metadata": {},
   "source": [
    "❌ __TODO:__ Markdown Explanation of chart above"
   ]
  },
  {
   "cell_type": "markdown",
   "id": "3f1632d2-38fa-4807-8786-0454bca717fb",
   "metadata": {},
   "source": [
    "### ⭐ What percentage of global sales does PlayStation have in the dataset?"
   ]
  },
  {
   "cell_type": "markdown",
   "id": "90db375e-4a24-4602-ae83-b16217a10802",
   "metadata": {},
   "source": [
    "❌ __TODO:__ Markdown Explanation of chart above"
   ]
  },
  {
   "cell_type": "markdown",
   "id": "851cdb8f-e6b0-4e9e-92f3-434951f7986c",
   "metadata": {},
   "source": [
    "### ⭐ Sales by region for each publisher (bar chart)"
   ]
  },
  {
   "cell_type": "markdown",
   "id": "d1bd3d05-51d1-4f9a-b242-2d6dcd4839e6",
   "metadata": {},
   "source": [
    "❌ __TODO:__ Markdown Explanation of chart above"
   ]
  },
  {
   "cell_type": "markdown",
   "id": "6d4020e1-23a9-4494-9547-befe17032376",
   "metadata": {},
   "source": [
    "## Games Distrubution"
   ]
  },
  {
   "cell_type": "markdown",
   "id": "1c94ec94-160a-4e1e-8fe3-ea881e377218",
   "metadata": {},
   "source": [
    "### Global sales distribution for games iwth Action as the genre (Histogram)"
   ]
  },
  {
   "cell_type": "markdown",
   "id": "fa7d856a-9c12-43ae-bcf6-da4e4270065c",
   "metadata": {},
   "source": [
    "❌ __TODO:__ Markdown Explanation of chart above"
   ]
  },
  {
   "cell_type": "markdown",
   "id": "18ef0d08-55e9-4cd7-af3e-de3c5863c054",
   "metadata": {},
   "source": [
    "### ⭐ What is the distribution of sales for Shooter games"
   ]
  },
  {
   "cell_type": "markdown",
   "id": "f897a093-9561-4e80-bf06-ce4edd9d963c",
   "metadata": {},
   "source": [
    "❌ __TODO:__ Markdown Explanation of chart above"
   ]
  },
  {
   "cell_type": "markdown",
   "id": "c666f5c9-d0c7-4f42-ac39-dbc85ef3c031",
   "metadata": {},
   "source": [
    "## Sales by Genre"
   ]
  },
  {
   "cell_type": "markdown",
   "id": "68d26263-a3dd-4c66-8945-b80b3c344f37",
   "metadata": {},
   "source": [
    "### Percentage of sales each genre had in the Nort American market (Pie chart)\n",
    "_Group smaller slices together into an \"other\" category to make it easier to read_"
   ]
  },
  {
   "cell_type": "markdown",
   "id": "12edf7fd-954b-4dc3-b9b5-7b4d017d9312",
   "metadata": {},
   "source": [
    "❌ __TODO:__ Detailed what is included in the other category"
   ]
  },
  {
   "cell_type": "markdown",
   "id": "e34109f5-299a-4aca-a69d-d8b2ebff078c",
   "metadata": {},
   "source": [
    "### Percentage of sales each genre had in the European market (Pie chart)\n",
    "_Group smaller slices together into an \"other\" category to make it easier to read_"
   ]
  },
  {
   "cell_type": "markdown",
   "id": "050c41d0-c025-448b-a8af-a88329b52c9f",
   "metadata": {},
   "source": [
    "❌ __TODO:__ Detailed what is included in the other category"
   ]
  },
  {
   "cell_type": "markdown",
   "id": "ffa23796-7694-4ab9-b127-822813396453",
   "metadata": {},
   "source": [
    "❌ __TODO:__ Explain the differences and similarities between the NA and EU charts"
   ]
  },
  {
   "cell_type": "markdown",
   "id": "8ef0a2b2-f650-4f43-97e9-90740090fa2b",
   "metadata": {},
   "source": [
    "## Games"
   ]
  },
  {
   "cell_type": "markdown",
   "id": "ce5d398a-b5d7-4f44-9373-a0d9f6960496",
   "metadata": {},
   "source": [
    "### Total number of games created for each platform (Bar or Column Chart)"
   ]
  },
  {
   "cell_type": "markdown",
   "id": "fb86017d-0d6b-4b3c-a87f-8ee0ea00e1cc",
   "metadata": {},
   "source": [
    "❌ __TODO:__ Markdown Explanation of chart above"
   ]
  },
  {
   "cell_type": "markdown",
   "id": "bcdd5101-758e-4906-979a-c96db14fbaac",
   "metadata": {},
   "source": [
    "### ⭐ What genre of game is present the most in the top 100 games from 2000 - 2015? "
   ]
  },
  {
   "cell_type": "markdown",
   "id": "eac500d1-62fb-4e30-a7b0-6d404d40e216",
   "metadata": {},
   "source": [
    "❌ __TODO:__ Markdown Explanation of chart above"
   ]
  }
 ],
 "metadata": {
  "kernelspec": {
   "display_name": "Python 3 (ipykernel)",
   "language": "python",
   "name": "python3"
  },
  "language_info": {
   "codemirror_mode": {
    "name": "ipython",
    "version": 3
   },
   "file_extension": ".py",
   "mimetype": "text/x-python",
   "name": "python",
   "nbconvert_exporter": "python",
   "pygments_lexer": "ipython3",
   "version": "3.9.12"
  }
 },
 "nbformat": 4,
 "nbformat_minor": 5
}
